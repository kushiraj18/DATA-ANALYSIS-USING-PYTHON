{
  "nbformat": 4,
  "nbformat_minor": 0,
  "metadata": {
    "colab": {
      "provenance": [],
      "authorship_tag": "ABX9TyON+Rwcz8s/+dTG+lKMnA2e",
      "include_colab_link": true
    },
    "kernelspec": {
      "name": "python3",
      "display_name": "Python 3"
    },
    "language_info": {
      "name": "python"
    }
  },
  "cells": [
    {
      "cell_type": "markdown",
      "metadata": {
        "id": "view-in-github",
        "colab_type": "text"
      },
      "source": [
        "<a href=\"https://colab.research.google.com/github/kushiraj18/DATA-ANALYSIS-USING-PYTHON/blob/main/2203A52030_DAUP_LAB_ASSIGNMENT_6.ipynb\" target=\"_parent\"><img src=\"https://colab.research.google.com/assets/colab-badge.svg\" alt=\"Open In Colab\"/></a>"
      ]
    },
    {
      "cell_type": "code",
      "execution_count": 2,
      "metadata": {
        "colab": {
          "base_uri": "https://localhost:8080/"
        },
        "id": "N2XyfZYNT6S5",
        "outputId": "4b04c2ae-46c3-4a43-bec2-fb4df74a3e47"
      },
      "outputs": [
        {
          "output_type": "stream",
          "name": "stdout",
          "text": [
            "P(A) - Member transaction: 0.501\n",
            "P(B) - Credit Card transaction: 0.311\n",
            "P(A ∪ B) - Member or Credit Card transaction: 0.6400000000000001\n",
            "P(A ∩ B) - Member using Credit Card: 0.172\n",
            "P(A | B) - Member given Credit Card: 0.5530546623794211\n",
            "P(Health & Beauty transaction): 0.152\n",
            "P(Quantity > 5 | Ewallet): 0.48695652173913045\n",
            "P(Cash payment in Yangon): 0.3235294117647059\n",
            "P(Member with rating > 8): 0.157\n",
            "Ways to arrange 5 transactions from 20: 1860480\n",
            "Ways to select 3 product lines from 6: 20\n",
            "Factorial of branches: 6\n",
            "Ways to display 4 payment methods from 3: 6\n",
            "Ways to select 5 employees from 15: 3003\n",
            "Unique invoice codes using 6 letters: 165765600\n"
          ]
        }
      ],
      "source": [
        "import pandas as pd\n",
        "import math\n",
        "\n",
        "file_path = \"/content/supermarket_sales -.csv\"\n",
        "df = pd.read_csv(file_path)\n",
        "\n",
        "total_transactions = len(df)\n",
        "\n",
        "count_A = len(df[df[\"Customer type\"] == \"Member\"])\n",
        "P_A = count_A / total_transactions\n",
        "\n",
        "count_B = len(df[df[\"Payment\"] == \"Credit card\"])\n",
        "P_B = count_B / total_transactions\n",
        "\n",
        "count_A_inter_B = len(df[(df[\"Customer type\"] == \"Member\") & (df[\"Payment\"] == \"Credit card\")])\n",
        "P_A_inter_B = count_A_inter_B / total_transactions\n",
        "\n",
        "P_A_union_B = P_A + P_B - P_A_inter_B\n",
        "\n",
        "P_A_given_B = P_A_inter_B / P_B if P_B != 0 else 0\n",
        "\n",
        "count_health_beauty = len(df[df[\"Product line\"] == \"Health and beauty\"])\n",
        "P_health_beauty = count_health_beauty / total_transactions\n",
        "\n",
        "count_ewallet = len(df[df[\"Payment\"] == \"Ewallet\"])\n",
        "count_ewallet_more5 = len(df[(df[\"Payment\"] == \"Ewallet\") & (df[\"Quantity\"] > 5)])\n",
        "P_more5_given_ewallet = count_ewallet_more5 / count_ewallet if count_ewallet != 0 else 0\n",
        "\n",
        "count_yangon_cash = len(df[(df[\"City\"] == \"Yangon\") & (df[\"Payment\"] == \"Cash\")])\n",
        "count_yangon = len(df[df[\"City\"] == \"Yangon\"])\n",
        "P_yangon_cash = count_yangon_cash / count_yangon if count_yangon != 0 else 0\n",
        "\n",
        "count_member_rating8 = len(df[(df[\"Customer type\"] == \"Member\") & (df[\"Rating\"] > 8)])\n",
        "P_member_rating8 = count_member_rating8 / total_transactions\n",
        "\n",
        "def factorial(n):\n",
        "    return math.factorial(n)\n",
        "\n",
        "def permutation(n, r):\n",
        "    return math.factorial(n) // math.factorial(n - r)\n",
        "\n",
        "def combination(n, r):\n",
        "    return math.factorial(n) // (math.factorial(r) * math.factorial(n - r))\n",
        "\n",
        "\n",
        "perm_5_from_20 = permutation(20, 5)\n",
        "comb_3_from_6 = combination(6, 3)\n",
        "fact_branches = factorial(3)\n",
        "perm_4_from_3 = permutation(3, 3)\n",
        "comb_5_from_15 = combination(15, 5)\n",
        "perm_6_from_26 = permutation(26, 6)\n",
        "\n",
        "print(\"P(A) - Member transaction:\", P_A)\n",
        "print(\"P(B) - Credit Card transaction:\", P_B)\n",
        "print(\"P(A ∪ B) - Member or Credit Card transaction:\", P_A_union_B)\n",
        "print(\"P(A ∩ B) - Member using Credit Card:\", P_A_inter_B)\n",
        "print(\"P(A | B) - Member given Credit Card:\", P_A_given_B)\n",
        "print(\"P(Health & Beauty transaction):\", P_health_beauty)\n",
        "print(\"P(Quantity > 5 | Ewallet):\", P_more5_given_ewallet)\n",
        "print(\"P(Cash payment in Yangon):\", P_yangon_cash)\n",
        "print(\"P(Member with rating > 8):\", P_member_rating8)\n",
        "print(\"Ways to arrange 5 transactions from 20:\", perm_5_from_20)\n",
        "print(\"Ways to select 3 product lines from 6:\", comb_3_from_6)\n",
        "print(\"Factorial of branches:\", fact_branches)\n",
        "print(\"Ways to display 4 payment methods from 3:\", perm_4_from_3)\n",
        "print(\"Ways to select 5 employees from 15:\", comb_5_from_15)\n",
        "print(\"Unique invoice codes using 6 letters:\", perm_6_from_26)\n"
      ]
    }
  ]
}